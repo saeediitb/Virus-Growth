{
 "cells": [
  {
   "cell_type": "markdown",
   "metadata": {},
   "source": [
    "# @File: run.py\n",
    "# @Author: Saeed AHmad (email:saeediitb@gmail.com)\n",
    "# @Date:   2023-06-20 18:08:51\n",
    "# @Last Modified (Saeed Ahmad) time: 2023-08-13 13:49:54\n",
    "# This code is for versions python=3.10.8, panda=1.5.1, numpy=1.23.5, hoomd=3.5.0 "
   ]
  },
  {
   "cell_type": "code",
   "execution_count": 7,
   "metadata": {},
   "outputs": [],
   "source": [
    "import hoomd\n",
    "from hoomd import md\n",
    "import numpy as np\n",
    "import pandas as pd\n",
    "import virus\n",
    "from virus.IOframe import *\n",
    "from virus.system import System\n",
    "from virus.system import Update_Snap\n",
    "import sys,os,glob,json\n",
    "import pickle\n",
    "ONEDGE=32767"
   ]
  },
  {
   "cell_type": "code",
   "execution_count": 8,
   "metadata": {},
   "outputs": [],
   "source": [
    "def test_merge(sys):\n",
    "\t#cprint(\"test merging...\",'yellow')\n",
    "\tmergestatus = sys.shell.shell_merge()\n",
    "\twhile mergestatus == 1:\n",
    "\t\tcprint('Force Merge Happen','yellow')\n",
    "\t\tsys.try_relax()\n",
    "\t\tmergestatus = sys.shell.shell_merge()\n",
    "\tif mergestatus == -1:\n",
    "\t\t#cprint(\"Assemble done from merge\")\n",
    "\t\tsys.try_relax()\n",
    "\t\t#sys.setup_operation(\"final1.gsd\")\n",
    "\t#else: cprint(\"no more merge!\",'yellow')\n",
    "\treturn mergestatus"
   ]
  },
  {
   "cell_type": "code",
   "execution_count": 9,
   "metadata": {},
   "outputs": [],
   "source": [
    "\n",
    "def run():\n",
    "\tvirus_sys = System(param)\n",
    "\tvirus_sys.initial()\n",
    "\tsnap = hoomd.Snapshot()\n",
    "\tsnap.configuration.box = [1.5*param['L'], 1.5*param['L'], 1.5*param['L'], 0, 0, 0]\n",
    "\tsnap.particles.types = ['A','B']\n",
    "\tsnap.bonds.types = ['out_ver_to_out_ver']\n",
    "\tsnap.dihedrals.types = ['capsomer']\n",
    "\tsnap.angles.types = ['ds']\n",
    "\tvirus_sys.sim.create_state_from_snapshot(snap)\n",
    "\tvirus_sys.setup_potential() # whether this should always be called once\n",
    "\tvirus_sys.setup_operation() #-----------------------------------\n",
    "\tvirus_sys.setup_integrator() #-------------------------\n",
    "\tmax_run = virus_sys.try_relax() #---------------------------\n",
    "\tprint(snap.particles.types)\n",
    "\tsa\n",
    "\t#frame_out(virus_sys.time, virus_sys.shell)\n",
    "\tn=0\n",
    "\tshell=pickle.loads(pickle.dumps(virus_sys.shell))\n",
    "\tshellE = pickle.loads(pickle.dumps(virus_sys.shellE))\n",
    "\tfor n in range(100000):\n",
    "\t\tvirus_sys.time = 0.0\n",
    "\t\tvirus_sys.shell = shell\n",
    "\t\tvirus_sys.shellE = shellE\n",
    "\t\tenergy_frame(virus_sys.time,virus_sys.shellE)#,rate=0.0,mc_type='type')\n",
    "\t\twhile (not virus_sys.shell.test_shell_close()):\n",
    "\t\t\tvirus_sys.kmc_moves()\n",
    "\t\t\tmergestatus = test_merge(virus_sys)\n",
    "\t\t\tif len(virus_sys.shell.triangle)>=25:\n",
    "\t\t\t\tbreak\n",
    "\t\tframe_out(n,virus_sys.time, virus_sys.shell)\n",
    "\t\t#frame_out(virus_sys.time, virus_sys.shell,name_file='final_shell.csv')\n",
    "\t\tif len(virus_sys.shell.triangle)==20:\n",
    "\t\t\tprint(n, virus_sys.time)\n",
    "\t\t\tenergy_frame(virus_sys.time,virus_sys.shellE,col_name=False)\n",
    "\t\t\tFirst_passage_Time(n, virus_sys.time)\n",
    "\n",
    "\n",
    "\n",
    "\tcprint(\" Final Assemble Done!\\nFinal Shell:\",'white', attrs = ['reverse'])\n",
    "\tprint('Congratulations: Run Completed')"
   ]
  },
  {
   "cell_type": "code",
   "execution_count": 1,
   "metadata": {},
   "outputs": [
    {
     "ename": "NameError",
     "evalue": "name 'os' is not defined",
     "output_type": "error",
     "traceback": [
      "\u001b[0;31m---------------------------------------------------------------------------\u001b[0m",
      "\u001b[0;31mNameError\u001b[0m                                 Traceback (most recent call last)",
      "Cell \u001b[0;32mIn[1], line 1\u001b[0m\n\u001b[0;32m----> 1\u001b[0m \u001b[43mos\u001b[49m\u001b[38;5;241m.\u001b[39mchdir(glob\u001b[38;5;241m.\u001b[39mglob(\u001b[38;5;124m\"\u001b[39m\u001b[38;5;124mR*\u001b[39m\u001b[38;5;124m\"\u001b[39m)[\u001b[38;5;241m0\u001b[39m])\n\u001b[1;32m      2\u001b[0m param \u001b[38;5;241m=\u001b[39m glob\u001b[38;5;241m.\u001b[39mglob(\u001b[38;5;124m'\u001b[39m\u001b[38;5;124mR*.json\u001b[39m\u001b[38;5;124m'\u001b[39m)\n\u001b[1;32m      3\u001b[0m param \u001b[38;5;241m=\u001b[39m param[\u001b[38;5;241m0\u001b[39m]\n",
      "\u001b[0;31mNameError\u001b[0m: name 'os' is not defined"
     ]
    }
   ],
   "source": [
    "os.chdir(glob.glob(\"R*\")[0])\n",
    "param = glob.glob('R*.json')\n",
    "param = param[0]\n",
    "with open(param) as f: param = json.load(f)\n",
    "os.chdir(\"..\")\n",
    "run()"
   ]
  },
  {
   "cell_type": "code",
   "execution_count": 3,
   "metadata": {},
   "outputs": [
    {
     "name": "stdout",
     "output_type": "stream",
     "text": [
      "[[ 0  1  2]\n",
      " [ 3  4  5]\n",
      " [ 6  7  8]\n",
      " [ 9 10 11]\n",
      " [12 13 14]\n",
      " [15 16 17]]\n",
      "[[0 1 2]\n",
      " [3 4 5]\n",
      " [6 7 8]]\n",
      "[ 9 12 15]\n"
     ]
    }
   ],
   "source": [
    "import numpy as np\n",
    "\n",
    "# Create a 6x3 matrix\n",
    "matrix = np.arange(18).reshape(6, 3)\n",
    "print(matrix)\n",
    "# Print the 3x3 sub-matrix starting from the top-left corner\n",
    "print(matrix[:3, :3])\n",
    "one_d_array = matrix[:3, :3].sum(axis=0)\n",
    "\n",
    "print(one_d_array)\n"
   ]
  },
  {
   "cell_type": "code",
   "execution_count": 5,
   "metadata": {},
   "outputs": [
    {
     "ename": "ValueError",
     "evalue": "operands could not be broadcast together with shapes (3,) (2,) ",
     "output_type": "error",
     "traceback": [
      "\u001b[0;31m---------------------------------------------------------------------------\u001b[0m",
      "\u001b[0;31mValueError\u001b[0m                                Traceback (most recent call last)",
      "Cell \u001b[0;32mIn[5], line 31\u001b[0m\n\u001b[1;32m     29\u001b[0m \u001b[38;5;66;03m# Example usage\u001b[39;00m\n\u001b[1;32m     30\u001b[0m triangle \u001b[38;5;241m=\u001b[39m np\u001b[38;5;241m.\u001b[39marray([[\u001b[38;5;241m1\u001b[39m, \u001b[38;5;241m2\u001b[39m,\u001b[38;5;241m1\u001b[39m], [\u001b[38;5;241m3\u001b[39m, \u001b[38;5;241m1\u001b[39m,\u001b[38;5;241m2\u001b[39m], [\u001b[38;5;241m4\u001b[39m, \u001b[38;5;241m4\u001b[39m,\u001b[38;5;241m2\u001b[39m]])\n\u001b[0;32m---> 31\u001b[0m perpendicular_point \u001b[38;5;241m=\u001b[39m \u001b[43mfind_perpendicular_point\u001b[49m\u001b[43m(\u001b[49m\u001b[43mtriangle\u001b[49m\u001b[43m)\u001b[49m\n\u001b[1;32m     33\u001b[0m \u001b[38;5;28mprint\u001b[39m(perpendicular_point)\n",
      "Cell \u001b[0;32mIn[5], line 25\u001b[0m, in \u001b[0;36mfind_perpendicular_point\u001b[0;34m(triangle)\u001b[0m\n\u001b[1;32m     22\u001b[0m direction \u001b[38;5;241m/\u001b[39m\u001b[38;5;241m=\u001b[39m np\u001b[38;5;241m.\u001b[39mlinalg\u001b[38;5;241m.\u001b[39mnorm(direction)\n\u001b[1;32m     24\u001b[0m \u001b[38;5;66;03m# Move 0.5 units in the perpendicular direction (rotate by 90 degrees)\u001b[39;00m\n\u001b[0;32m---> 25\u001b[0m perpendicular_point \u001b[38;5;241m=\u001b[39m \u001b[43mcentroid\u001b[49m\u001b[43m \u001b[49m\u001b[38;5;241;43m+\u001b[39;49m\u001b[43m \u001b[49m\u001b[38;5;241;43m0.5\u001b[39;49m\u001b[43m \u001b[49m\u001b[38;5;241;43m*\u001b[39;49m\u001b[43m \u001b[49m\u001b[43mnp\u001b[49m\u001b[38;5;241;43m.\u001b[39;49m\u001b[43marray\u001b[49m\u001b[43m(\u001b[49m\u001b[43m[\u001b[49m\u001b[38;5;241;43m-\u001b[39;49m\u001b[43mdirection\u001b[49m\u001b[43m[\u001b[49m\u001b[38;5;241;43m1\u001b[39;49m\u001b[43m]\u001b[49m\u001b[43m,\u001b[49m\u001b[43m \u001b[49m\u001b[43mdirection\u001b[49m\u001b[43m[\u001b[49m\u001b[38;5;241;43m0\u001b[39;49m\u001b[43m]\u001b[49m\u001b[43m]\u001b[49m\u001b[43m)\u001b[49m\n\u001b[1;32m     27\u001b[0m \u001b[38;5;28;01mreturn\u001b[39;00m perpendicular_point\n",
      "\u001b[0;31mValueError\u001b[0m: operands could not be broadcast together with shapes (3,) (2,) "
     ]
    }
   ],
   "source": [
    "import numpy as np\n",
    "\n",
    "def find_perpendicular_point(triangle):\n",
    "  \"\"\"\n",
    "  Finds the coordinate of the point that is 0.5 away and perpendicular\n",
    "  from the centroid of the given triangle.\n",
    "\n",
    "  Args:\n",
    "      triangle: A 3x2 NumPy array representing the triangle coordinates.\n",
    "\n",
    "  Returns:\n",
    "      A NumPy array containing the coordinates of the perpendicular point.\n",
    "  \"\"\"\n",
    "\n",
    "  # Calculate the centroid\n",
    "  centroid = np.mean(triangle, axis=0)\n",
    "\n",
    "  # Get the direction vector from centroid to any vertex (assuming non-degenerate triangle)\n",
    "  direction = triangle[0] - centroid\n",
    "\n",
    "  # Normalize the direction vector\n",
    "  direction /= np.linalg.norm(direction)\n",
    "\n",
    "  # Move 0.5 units in the perpendicular direction (rotate by 90 degrees)\n",
    "  perpendicular_point = centroid + 0.5 * np.array([-direction[1], direction[0]])\n",
    "\n",
    "  return perpendicular_point\n",
    "\n",
    "# Example usage\n",
    "triangle = np.array([[1, 2,1], [3, 1,2], [4, 4,2]])\n",
    "perpendicular_point = find_perpendicular_point(triangle)\n",
    "\n",
    "print(perpendicular_point)"
   ]
  },
  {
   "cell_type": "code",
   "execution_count": 8,
   "metadata": {},
   "outputs": [
    {
     "name": "stdout",
     "output_type": "stream",
     "text": [
      "Centroid: [2.66666667 2.33333333 1.66666667]\n",
      "Desired point: [2.4713833  2.39842779 2.12232786]\n"
     ]
    }
   ],
   "source": [
    "import numpy as np\n",
    "\n",
    "# Given triangle vertices (replace with your actual coordinates)\n",
    "A = np.array([1, 2,1])\n",
    "B = np.array([3, 1, 2])\n",
    "C = np.array([4, 4, 2])\n",
    "\n",
    "# Calculate centroid\n",
    "centroid = (A + B + C) / 3\n",
    "\n",
    "# Calculate normal vector\n",
    "AB = B - A\n",
    "AC = C - A\n",
    "normal_vector = np.cross(AB, AC)\n",
    "\n",
    "# Normalize the normal vector\n",
    "normalized_normal = normal_vector / np.linalg.norm(normal_vector)\n",
    "\n",
    "# Calculate the desired point\n",
    "distance_from_centroid = 0.5\n",
    "desired_point = centroid + distance_from_centroid * normalized_normal\n",
    "\n",
    "print(f\"Centroid: {centroid}\")\n",
    "print(f\"Desired point: {desired_point}\")\n"
   ]
  },
  {
   "cell_type": "code",
   "execution_count": 13,
   "metadata": {},
   "outputs": [
    {
     "name": "stdout",
     "output_type": "stream",
     "text": [
      "Centroid: [2.66666667 2.33333333 1.66666667]\n",
      "Desired point: [2.4713833  2.39842779 2.12232786]\n"
     ]
    }
   ],
   "source": [
    "import numpy as np\n",
    "\n",
    "# Given triangle vertices (replace with your actual coordinates)\n",
    "triangle = np.array([[1, 2,1], [3, 1,2], [4, 4,2]])\n",
    "\n",
    "# Calculate centroid\n",
    "centroid = np.mean(triangle, axis=0)\n",
    "\n",
    "# Calculate normal vector\n",
    "AB = triangle[1] - triangle[0]\n",
    "AC = triangle[2] - triangle[0]\n",
    "normal_vector = np.cross(AB, AC)\n",
    "\n",
    "# Normalize the normal vector\n",
    "normalized_normal = normal_vector / np.linalg.norm(normal_vector)\n",
    "\n",
    "# Calculate the desired point\n",
    "distance_from_centroid = 0.5\n",
    "desired_point = centroid + distance_from_centroid * normalized_normal\n",
    "\n",
    "print(f\"Centroid: {centroid}\")\n",
    "print(f\"Desired point: {desired_point}\")"
   ]
  },
  {
   "cell_type": "code",
   "execution_count": 9,
   "metadata": {},
   "outputs": [
    {
     "name": "stdout",
     "output_type": "stream",
     "text": [
      "[2.57537957 2.7897688  1.66666667]\n"
     ]
    }
   ],
   "source": [
    "import numpy as np\n",
    "\n",
    "def find_perpendicular_point(triangle):\n",
    "  \"\"\"\n",
    "  Finds the coordinate of the point that is 0.5 away and perpendicular\n",
    "  from the centroid of the given triangle in 3D space.\n",
    "\n",
    "  Args:\n",
    "      triangle: A 3x3 NumPy array representing the triangle coordinates.\n",
    "\n",
    "  Returns:\n",
    "      A NumPy array containing the coordinates of the perpendicular point.\n",
    "  \"\"\"\n",
    "\n",
    "  # Calculate the centroid\n",
    "  centroid = np.mean(triangle, axis=0)\n",
    "\n",
    "  # Get the direction vector from centroid to any vertex (assuming non-degenerate triangle)\n",
    "  direction = triangle[0] - centroid\n",
    "\n",
    "  # Normalize the direction vector\n",
    "  direction /= np.linalg.norm(direction)\n",
    "\n",
    "  # Create a perpendicular vector by swapping axes and negating one\n",
    "  perpendicular_axis = np.array([direction[1], -direction[0], 0])\n",
    "\n",
    "  # Move 0.5 units in the perpendicular direction\n",
    "  perpendicular_point = centroid + 0.5 * perpendicular_axis\n",
    "\n",
    "  return perpendicular_point\n",
    "\n",
    "# Example usage\n",
    "triangle = np.array([[1, 2, 1], [3, 1, 2], [4, 4, 2]])\n",
    "perpendicular_point = find_perpendicular_point(triangle)\n",
    "\n",
    "print(perpendicular_point)\n"
   ]
  }
 ],
 "metadata": {
  "kernelspec": {
   "display_name": "Hd3_CPU",
   "language": "python",
   "name": "python3"
  },
  "language_info": {
   "codemirror_mode": {
    "name": "ipython",
    "version": 3
   },
   "file_extension": ".py",
   "mimetype": "text/x-python",
   "name": "python",
   "nbconvert_exporter": "python",
   "pygments_lexer": "ipython3",
   "version": "3.10.9"
  }
 },
 "nbformat": 4,
 "nbformat_minor": 2
}
